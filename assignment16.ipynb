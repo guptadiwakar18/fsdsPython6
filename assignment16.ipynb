{
  "nbformat": 4,
  "nbformat_minor": 0,
  "metadata": {
    "colab": {
      "provenance": [],
      "authorship_tag": "ABX9TyNd/vPFHO1beTqMO7M9o7V7",
      "include_colab_link": true
    },
    "kernelspec": {
      "name": "python3",
      "display_name": "Python 3"
    },
    "language_info": {
      "name": "python"
    }
  },
  "cells": [
    {
      "cell_type": "markdown",
      "metadata": {
        "id": "view-in-github",
        "colab_type": "text"
      },
      "source": [
        "<a href=\"https://colab.research.google.com/github/guptadiwakar18/fsdsPython6/blob/main/assignment16.ipynb\" target=\"_parent\"><img src=\"https://colab.research.google.com/assets/colab-badge.svg\" alt=\"Open In Colab\"/></a>"
      ]
    },
    {
      "cell_type": "markdown",
      "source": [
        " #1. Create a list called years_list, starting with the year of your birth, and each year thereafter until the year of your fifth birthday. For example, if you were born in 1980. the list would be years_list = [1980, 1981, 1982, 1983, 1984, 1985].\n"
      ],
      "metadata": {
        "id": "obTCuWdopYhe"
      }
    },
    {
      "cell_type": "code",
      "source": [
        "years_list = [i for i in range(1982,1982+6)]\n",
        "years_list"
      ],
      "metadata": {
        "colab": {
          "base_uri": "https://localhost:8080/"
        },
        "id": "JYEWySawppVo",
        "outputId": "f633ca7c-3611-4962-edde-2b0409969c74"
      },
      "execution_count": 3,
      "outputs": [
        {
          "output_type": "execute_result",
          "data": {
            "text/plain": [
              "[1982, 1983, 1984, 1985, 1986, 1987]"
            ]
          },
          "metadata": {},
          "execution_count": 3
        }
      ]
    },
    {
      "cell_type": "code",
      "source": [
        "#2. In which year in years_list was your third birthday? Remember, you were 0 years of age for your first year.\n",
        "years_list[3]"
      ],
      "metadata": {
        "colab": {
          "base_uri": "https://localhost:8080/"
        },
        "id": "J0oshkjmqCHm",
        "outputId": "0096f49a-0f40-480c-aa36-e88994939978"
      },
      "execution_count": 5,
      "outputs": [
        {
          "output_type": "execute_result",
          "data": {
            "text/plain": [
              "1985"
            ]
          },
          "metadata": {},
          "execution_count": 5
        }
      ]
    },
    {
      "cell_type": "code",
      "source": [
        "#3.In the years list, which year were you the oldest?\n",
        "4. Make a list called things with these three strings as elements: \"mozzarella\", \"cinderella\", \"salmonella\".\n",
        "5. Capitalize the element in things that refers to a person and then print the list. Did it change the element in the list?\n",
        "6. Make a surprise list with the elements \"Groucho,\" \"Chico,\" and \"Harpo.\"\n",
        "7. Lowercase the last element of the surprise list, reverse it, and then capitalize it.\n",
        "8. Make an English-to-French dictionary called e2f and print it. Here are your starter words: dog is chien, cat is chat, and walrus is morse.\n",
        "9. Write the French word for walrus in your three-word dictionary e2f.\n",
        "10. Make a French-to-English dictionary called f2e from e2f. Use the items method.\n",
        "11. Print the English version of the French word chien using f2e.\n",
        "12. Make and print a set of English words from the keys in e2f.\n",
        "13. Make a multilevel dictionary called life. Use these strings for the topmost keys: 'animals', 'plants', and 'other'. Make the 'animals' key refer to another dictionary with the keys 'cats', 'octopi', and 'emus'. Make the 'cats' key refer to a list of strings with the values 'Henri', 'Grumpy', and 'Lucy'. Make all the other keys refer to empty dictionaries.\n",
        "14. Print the top-level keys of life.\n",
        "15. Print the keys for life['animals'].\n",
        "16. Print the values for life['animals']['cats']\n"
      ],
      "metadata": {
        "id": "yr34k8DBq7Z2"
      },
      "execution_count": null,
      "outputs": []
    },
    {
      "cell_type": "code",
      "source": [
        "#3.In the years list, which year were you the oldest?\n",
        "max(years_list)"
      ],
      "metadata": {
        "colab": {
          "base_uri": "https://localhost:8080/"
        },
        "id": "MpNMv7T7rM-x",
        "outputId": "6878c972-75f0-4a8b-fbe0-a43ad35a45b4"
      },
      "execution_count": 6,
      "outputs": [
        {
          "output_type": "execute_result",
          "data": {
            "text/plain": [
              "1987"
            ]
          },
          "metadata": {},
          "execution_count": 6
        }
      ]
    },
    {
      "cell_type": "code",
      "source": [
        "\n",
        "\n",
        "    #Q. Make a list called things with these three strings as elements: 'mozzarella', 'cinderella','salmonella'.\n",
        "\n",
        "things = list(['mozzarella', 'cinderella','salmonella'])\n",
        "things\n",
        "\n"
      ],
      "metadata": {
        "colab": {
          "base_uri": "https://localhost:8080/"
        },
        "id": "onr-3PDirdMF",
        "outputId": "aa42cbf7-d131-492c-b314-062540869e07"
      },
      "execution_count": 7,
      "outputs": [
        {
          "output_type": "execute_result",
          "data": {
            "text/plain": [
              "['mozzarella', 'cinderella', 'salmonella']"
            ]
          },
          "metadata": {},
          "execution_count": 7
        }
      ]
    },
    {
      "cell_type": "code",
      "source": [
        "\n",
        "\n",
        "   # Q. Capitalize the element in things that refers to a person and then print the list. Did it change the element in the list?\n",
        "\n",
        "for i in things:\n",
        "    print(i.capitalize())\n",
        "things"
      ],
      "metadata": {
        "colab": {
          "base_uri": "https://localhost:8080/"
        },
        "id": "a-Rv3bDRsDFE",
        "outputId": "37ddf95f-2b9a-4351-e7f1-70dc56741bc9"
      },
      "execution_count": 9,
      "outputs": [
        {
          "output_type": "stream",
          "name": "stdout",
          "text": [
            "Mozzarella\n",
            "Cinderella\n",
            "Salmonella\n"
          ]
        },
        {
          "output_type": "execute_result",
          "data": {
            "text/plain": [
              "['mozzarella', 'cinderella', 'salmonella']"
            ]
          },
          "metadata": {},
          "execution_count": 9
        }
      ]
    },
    {
      "cell_type": "code",
      "source": [
        "# Q. Make a surprise list with the elements \"Groucho\", \"Chico\", and \"Harpo\"\n",
        "\n",
        "surprise_list = [\"Groucho\", \"Chico\", \"Harpo\"]\n",
        "surprise_list\n",
        "\n"
      ],
      "metadata": {
        "colab": {
          "base_uri": "https://localhost:8080/"
        },
        "id": "lDtEA3TbsKvw",
        "outputId": "633ff85c-eede-4df5-9966-c25009ee7b0c"
      },
      "execution_count": 11,
      "outputs": [
        {
          "output_type": "execute_result",
          "data": {
            "text/plain": [
              "['Groucho', 'Chico', 'Harpo']"
            ]
          },
          "metadata": {},
          "execution_count": 11
        }
      ]
    },
    {
      "cell_type": "code",
      "source": [
        "\n",
        "\n",
        "# Q. Lowercase the last element of the surprise list, reverse it, and then capitalize it.\n",
        "\n",
        "surprise_list[-1].lower()\n",
        "\n"
      ],
      "metadata": {
        "colab": {
          "base_uri": "https://localhost:8080/",
          "height": 35
        },
        "id": "T1FwCXdKsU9e",
        "outputId": "cb70ed10-ff93-44bd-dc4d-5e05312fdc2c"
      },
      "execution_count": 12,
      "outputs": [
        {
          "output_type": "execute_result",
          "data": {
            "text/plain": [
              "'harpo'"
            ],
            "application/vnd.google.colaboratory.intrinsic+json": {
              "type": "string"
            }
          },
          "metadata": {},
          "execution_count": 12
        }
      ]
    },
    {
      "cell_type": "code",
      "source": [
        "surprise_list[-1][::-1]"
      ],
      "metadata": {
        "colab": {
          "base_uri": "https://localhost:8080/",
          "height": 35
        },
        "id": "bnd55UofscON",
        "outputId": "449d459e-34d8-4650-cb2e-f35ba710cc71"
      },
      "execution_count": 13,
      "outputs": [
        {
          "output_type": "execute_result",
          "data": {
            "text/plain": [
              "'opraH'"
            ],
            "application/vnd.google.colaboratory.intrinsic+json": {
              "type": "string"
            }
          },
          "metadata": {},
          "execution_count": 13
        }
      ]
    },
    {
      "cell_type": "code",
      "source": [
        "surprise_list[-1][::-1].upper()"
      ],
      "metadata": {
        "colab": {
          "base_uri": "https://localhost:8080/",
          "height": 35
        },
        "id": "V6piVfZ2sivy",
        "outputId": "e60f75b7-d140-4f18-e6a1-8fbd3d060a84"
      },
      "execution_count": 14,
      "outputs": [
        {
          "output_type": "execute_result",
          "data": {
            "text/plain": [
              "'OPRAH'"
            ],
            "application/vnd.google.colaboratory.intrinsic+json": {
              "type": "string"
            }
          },
          "metadata": {},
          "execution_count": 14
        }
      ]
    },
    {
      "cell_type": "code",
      "source": [
        "#Q. Make an English-to-French dictionary called e2f and print it. Here are your starter words: dog is chien, cat is chat, and walrus is morse.\n",
        "\n",
        "e2f = {'dog':'chien','cat':'chat','walrus':'morse'}\n",
        "\n"
      ],
      "metadata": {
        "id": "VMNiAVJqslin"
      },
      "execution_count": 16,
      "outputs": []
    },
    {
      "cell_type": "code",
      "source": [
        "#Q. Write the French word for walrus in your three-word dictionary e2f\n",
        "\n",
        "e2f['walrus']\n",
        "\n"
      ],
      "metadata": {
        "colab": {
          "base_uri": "https://localhost:8080/",
          "height": 35
        },
        "id": "PWuqSUuJs070",
        "outputId": "480c3194-7445-4c16-f6f1-688b7d91c31b"
      },
      "execution_count": 17,
      "outputs": [
        {
          "output_type": "execute_result",
          "data": {
            "text/plain": [
              "'morse'"
            ],
            "application/vnd.google.colaboratory.intrinsic+json": {
              "type": "string"
            }
          },
          "metadata": {},
          "execution_count": 17
        }
      ]
    },
    {
      "cell_type": "code",
      "source": [
        "#Q. Make a French-to-English dictionary called f2e from e2f. Use the items method\n",
        "\n",
        "f2e = dict((key,value) for value,key in e2f.items())\n",
        "f2e\n",
        "\n"
      ],
      "metadata": {
        "colab": {
          "base_uri": "https://localhost:8080/"
        },
        "id": "zYq4tYQ7s-O8",
        "outputId": "7be948dc-5ab1-4c08-c072-3db929691d13"
      },
      "execution_count": 18,
      "outputs": [
        {
          "output_type": "execute_result",
          "data": {
            "text/plain": [
              "{'chien': 'dog', 'chat': 'cat', 'morse': 'walrus'}"
            ]
          },
          "metadata": {},
          "execution_count": 18
        }
      ]
    },
    {
      "cell_type": "code",
      "source": [
        "#Q. Print the English version of the French word chien using f2e.\n",
        "\n",
        "f2e['chien']\n",
        "\n"
      ],
      "metadata": {
        "colab": {
          "base_uri": "https://localhost:8080/",
          "height": 35
        },
        "id": "oNnx8NYdtKEi",
        "outputId": "b50ea3ee-eb41-4fab-b103-b2916dd97733"
      },
      "execution_count": 19,
      "outputs": [
        {
          "output_type": "execute_result",
          "data": {
            "text/plain": [
              "'dog'"
            ],
            "application/vnd.google.colaboratory.intrinsic+json": {
              "type": "string"
            }
          },
          "metadata": {},
          "execution_count": 19
        }
      ]
    },
    {
      "cell_type": "code",
      "source": [
        "#Q. Make and print a set of English words from the keys in e2f.\n",
        "\n",
        "e2f.keys()\n",
        "\n"
      ],
      "metadata": {
        "colab": {
          "base_uri": "https://localhost:8080/"
        },
        "id": "XpDDc1UHtTQ2",
        "outputId": "218c65c2-49e4-4146-b678-2fd6b1b02f81"
      },
      "execution_count": 20,
      "outputs": [
        {
          "output_type": "execute_result",
          "data": {
            "text/plain": [
              "dict_keys(['dog', 'cat', 'walrus'])"
            ]
          },
          "metadata": {},
          "execution_count": 20
        }
      ]
    },
    {
      "cell_type": "code",
      "source": [
        "#Q. Make a multilevel dictionary called life. Use these strings for the topmost keys: 'animals', 'plants', and 'other'. Make the 'animals' key refer to another dictionary with the keys 'cats', 'octopi', and 'emus'. Make the 'cats' key refer to a list of strings with the values 'Henri', 'Grumpy', and 'Lucy'. Make all the other keys refer to empty dictionaries.\n",
        "\n",
        "life ={'animals':{'cat':['Henri', 'Grumpy', 'Lucy'], 'octopi':'', 'emus':''},\n",
        "       'plants' :'',\n",
        "       'other' :'' }\n",
        "life\n",
        "\n"
      ],
      "metadata": {
        "colab": {
          "base_uri": "https://localhost:8080/"
        },
        "id": "ByEQqWlMtbde",
        "outputId": "35539868-6542-4d3d-a789-2425dd61cf30"
      },
      "execution_count": 21,
      "outputs": [
        {
          "output_type": "execute_result",
          "data": {
            "text/plain": [
              "{'animals': {'cat': ['Henri', 'Grumpy', 'Lucy'], 'octopi': '', 'emus': ''},\n",
              " 'plants': '',\n",
              " 'other': ''}"
            ]
          },
          "metadata": {},
          "execution_count": 21
        }
      ]
    },
    {
      "cell_type": "code",
      "source": [
        "#Q. Print the top-level keys of life.\n",
        "\n",
        "life.keys()\n",
        "\n"
      ],
      "metadata": {
        "colab": {
          "base_uri": "https://localhost:8080/"
        },
        "id": "2rKvagi5tm9C",
        "outputId": "5fed53d1-e54f-42df-9db9-f3830d5344ca"
      },
      "execution_count": 22,
      "outputs": [
        {
          "output_type": "execute_result",
          "data": {
            "text/plain": [
              "dict_keys(['animals', 'plants', 'other'])"
            ]
          },
          "metadata": {},
          "execution_count": 22
        }
      ]
    },
    {
      "cell_type": "code",
      "source": [
        "#Q. Print the keys for life['animals'].\n",
        "\n",
        "life['animals'].keys()\n",
        "\n"
      ],
      "metadata": {
        "colab": {
          "base_uri": "https://localhost:8080/"
        },
        "id": "Um8tCrTWtvG9",
        "outputId": "a424737c-75b1-40f6-ca9c-96771635a96e"
      },
      "execution_count": 23,
      "outputs": [
        {
          "output_type": "execute_result",
          "data": {
            "text/plain": [
              "dict_keys(['cat', 'octopi', 'emus'])"
            ]
          },
          "metadata": {},
          "execution_count": 23
        }
      ]
    },
    {
      "cell_type": "code",
      "source": [
        "#Q. Print the values for life['animals']['cat']\n",
        "\n",
        "life['animals']['cat']\n",
        "\n"
      ],
      "metadata": {
        "colab": {
          "base_uri": "https://localhost:8080/"
        },
        "id": "U74FFywXuRwT",
        "outputId": "015405fb-2373-4324-837d-c7c0dffc0c67"
      },
      "execution_count": 24,
      "outputs": [
        {
          "output_type": "execute_result",
          "data": {
            "text/plain": [
              "['Henri', 'Grumpy', 'Lucy']"
            ]
          },
          "metadata": {},
          "execution_count": 24
        }
      ]
    },
    {
      "cell_type": "code",
      "source": [],
      "metadata": {
        "id": "RKlf29vouhEu"
      },
      "execution_count": null,
      "outputs": []
    }
  ]
}